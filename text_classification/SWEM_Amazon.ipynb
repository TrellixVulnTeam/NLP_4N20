{
 "cells": [
  {
   "cell_type": "markdown",
   "metadata": {},
   "source": [
    "# SWEM On Amazon Data"
   ]
  },
  {
   "cell_type": "markdown",
   "metadata": {},
   "source": [
    "## Prepare Data"
   ]
  },
  {
   "cell_type": "markdown",
   "metadata": {},
   "source": [
    "### Import packages and GloVe "
   ]
  },
  {
   "cell_type": "code",
   "execution_count": 91,
   "metadata": {},
   "outputs": [],
   "source": [
    "import gensim\n",
    "import logging\n",
    "from gensim.scripts.glove2word2vec import glove2word2vec\n",
    "\n",
    "from keras import *\n",
    "import pandas as pd\n",
    "import numpy as np\n",
    "import tensorflow as tf\n",
    "import numpy as np\n",
    "from tensorflow.contrib import layers\n",
    "\n",
    "import itertools\n",
    "from collections import Counter\n",
    "\n",
    "import numpy as np\n",
    "import pandas as pd\n",
    "import sklearn.metrics as metrics\n",
    "import matplotlib.pyplot as plt\n",
    "\n",
    "\n",
    "dat_path = \"./data/\"\n",
    "\n",
    "logging.basicConfig(format='%(asctime)s : %(levelname)s : %(message)s', level=logging.INFO)"
   ]
  },
  {
   "cell_type": "code",
   "execution_count": 32,
   "metadata": {},
   "outputs": [],
   "source": [
    "# Utility functions\n",
    "from utils import tokenizer, word2id_id2word_dicts, prepare_data_for_emb, token_to_id,\\\n",
    "    load_embedding_vectors_glove_gensim, get_minibatches_idx"
   ]
  },
  {
   "cell_type": "code",
   "execution_count": 33,
   "metadata": {},
   "outputs": [],
   "source": [
    "# Model functions\n",
    "from model import embedding, aver_emb_encoder, max_emb_encoder, concat_emb_encoder,\\\n",
    "    discriminator_2layer"
   ]
  },
  {
   "cell_type": "code",
   "execution_count": 34,
   "metadata": {},
   "outputs": [],
   "source": [
    "glove_embd = dat_path + 'embeddings/glove.6B.300d.txt.word2vec'"
   ]
  },
  {
   "cell_type": "markdown",
   "metadata": {},
   "source": [
    "### Load Amazon Review Data"
   ]
  },
  {
   "cell_type": "code",
   "execution_count": 35,
   "metadata": {},
   "outputs": [],
   "source": [
    "df_raw = pd.read_csv(dat_path + \"amazonreviews/train.ft.txt\", sep = \"\\t\", names = [\"row\"])"
   ]
  },
  {
   "cell_type": "code",
   "execution_count": 36,
   "metadata": {},
   "outputs": [],
   "source": [
    "# Function to transform input data to a workable dataframe\n",
    "# Input: text data\n",
    "# Output: pandas dataframe\n",
    "def dat_prepare(df):\n",
    "    new = df\n",
    "    new = pd.DataFrame(new.row.str.split(':', 1).tolist(), columns = ['label','review'])\n",
    "    new1 = new\n",
    "    new1 = pd.DataFrame(new1.label.str.split(' ', 1).tolist(), columns = ['label','content'])\n",
    "    new1['review'] = new['review']\n",
    "    return new1"
   ]
  },
  {
   "cell_type": "code",
   "execution_count": 37,
   "metadata": {},
   "outputs": [
    {
     "data": {
      "text/plain": [
       "3600000"
      ]
     },
     "execution_count": 37,
     "metadata": {},
     "output_type": "execute_result"
    }
   ],
   "source": [
    "df = dat_prepare(df_raw)\n",
    "len(df)"
   ]
  },
  {
   "cell_type": "markdown",
   "metadata": {},
   "source": [
    "## Prepare Training/Testing Data"
   ]
  },
  {
   "cell_type": "code",
   "execution_count": 38,
   "metadata": {},
   "outputs": [],
   "source": [
    "# Subset 10000 samples from the entire dataset\n",
    "# Subset train/test data from the original dataset to reduce the computing cost\n",
    "n = 10000\n",
    "review_data = df[0:n] "
   ]
  },
  {
   "cell_type": "code",
   "execution_count": 39,
   "metadata": {},
   "outputs": [],
   "source": [
    "# All data\n",
    "x_data = review_data['review']\n",
    "\n",
    "y_label = review_data['label']\n",
    "y_label = np.where(y_label == '__label__2', 1, 0)"
   ]
  },
  {
   "cell_type": "code",
   "execution_count": 40,
   "metadata": {},
   "outputs": [],
   "source": [
    "class opt(object):\n",
    "    def __init__(self):\n",
    "        # Maximum number of words in a review\n",
    "        self.embeddings = None\n",
    "        self.maxlen = None\n",
    "        # Number of unique words in all reviews\n",
    "        self.uniq_words = None\n",
    "        # Vector size for each word embeddings from GloVe\n",
    "        self.emb_size = 300\n",
    "        # Training Batch Size\n",
    "        self.batch_size = 50\n",
    "        # Epoch\n",
    "        self.epoch = 101\n",
    "        # Learning rate\n",
    "        self.lr_rate = 0.01\n",
    "        # Dropout - keep rate\n",
    "        self.dropout = 0.5\n",
    "        # Number of hidden layers\n",
    "        self.H_dis = None"
   ]
  },
  {
   "cell_type": "code",
   "execution_count": 41,
   "metadata": {},
   "outputs": [],
   "source": [
    "# initialize model options\n",
    "opt = opt()"
   ]
  },
  {
   "cell_type": "code",
   "execution_count": 42,
   "metadata": {},
   "outputs": [
    {
     "name": "stdout",
     "output_type": "stream",
     "text": [
      "Finish tokenizing...\n",
      "Finish creating word2id, id2word matrices 4471 4471\n"
     ]
    }
   ],
   "source": [
    "# Tokenize\n",
    "x_tokenized = x_data.apply(tokenizer)\n",
    "print(\"Finish tokenizing...\")\n",
    "\n",
    "# word2id, id2word\n",
    "x_word2id = word2id_id2word_dicts(x_tokenized)[0]\n",
    "x_id2word = word2id_id2word_dicts(x_tokenized)[1]\n",
    "print(\"Finish creating word2id, id2word matrices\", len(x_word2id), len(x_id2word))"
   ]
  },
  {
   "cell_type": "code",
   "execution_count": 43,
   "metadata": {},
   "outputs": [
    {
     "name": "stdout",
     "output_type": "stream",
     "text": [
      "Finish creating token to id matrix:  10000\n"
     ]
    }
   ],
   "source": [
    "# assigning ids to tokens\n",
    "token_id_mat = [token_to_id(x, x_word2id) for x in x_tokenized]\n",
    "print(\"Finish creating token to id matrix: \", len(token_id_mat))"
   ]
  },
  {
   "cell_type": "code",
   "execution_count": 44,
   "metadata": {},
   "outputs": [
    {
     "name": "stderr",
     "output_type": "stream",
     "text": [
      "2019-05-19 23:59:08,495 : INFO : loading projection weights from ~/Documents/DCRI/PAD_ML/Code/data/embeddings/glove.6B.300d.txt.word2vec\n"
     ]
    },
    {
     "name": "stdout",
     "output_type": "stream",
     "text": [
      "loading embedding\n"
     ]
    },
    {
     "name": "stderr",
     "output_type": "stream",
     "text": [
      "2019-05-20 00:00:46,494 : INFO : loaded (400000, 300) matrix from ~/Documents/DCRI/PAD_ML/Code/data/embeddings/glove.6B.300d.txt.word2vec\n"
     ]
    },
    {
     "name": "stdout",
     "output_type": "stream",
     "text": [
      "num of vocab in glove: 4402\n",
      "num of vocab not in glove: 69\n"
     ]
    }
   ],
   "source": [
    "# Word Vectors\n",
    "x_word_embeddings = load_embedding_vectors_glove_gensim(x_word2id, glove_embd)"
   ]
  },
  {
   "cell_type": "code",
   "execution_count": 45,
   "metadata": {},
   "outputs": [],
   "source": [
    "opt.maxlen = np.max([len(s) for s in x_tokenized])\n",
    "opt.uniq_words = len(x_word2id)\n",
    "opt.embeddings = x_word_embeddings\n",
    "opt.H_dis = 150"
   ]
  },
  {
   "cell_type": "markdown",
   "metadata": {},
   "source": [
    "### Define Training Model Class"
   ]
  },
  {
   "cell_type": "code",
   "execution_count": 46,
   "metadata": {},
   "outputs": [],
   "source": [
    "spl_ratio = 0.8\n",
    "val_ratio = 0.1\n",
    "test_ratio = 0.1\n",
    "n_train = int(n*spl_ratio)\n",
    "n_val = int(n*val_ratio)\n",
    "n_test = int(n*test_ratio)\n",
    "train = token_id_mat[0:n_train]\n",
    "val = token_id_mat[n_train:n_train+n_val]\n",
    "test = token_id_mat[n_train+n_val:n]"
   ]
  },
  {
   "cell_type": "code",
   "execution_count": 47,
   "metadata": {},
   "outputs": [],
   "source": [
    "train_lab = y_label[0:n_train]\n",
    "val_lab = y_label[n_train:n_train+n_val]\n",
    "test_lab = y_label[n_train+n_val:n]"
   ]
  },
  {
   "cell_type": "markdown",
   "metadata": {},
   "source": [
    "### Define SWEM Model"
   ]
  },
  {
   "cell_type": "code",
   "execution_count": 74,
   "metadata": {},
   "outputs": [],
   "source": [
    "def emb_classifier_max(x, x_mask, y, dropout, opt):\n",
    "    # print x.get_shape()  # batch L\n",
    "    x_emb, W_emb = embedding(x, opt)  # batch L emb\n",
    "    print(\"size of embedding: \", x_emb.shape)\n",
    "    x_emb = tf.expand_dims(x_emb, 3)  # batch L emb 1\n",
    "    \n",
    "    print(\"Input size for encoding x_emb: \", x_emb.shape)\n",
    "    H_enc = max_emb_encoder(x_emb, x_mask, opt)\n",
    "    \n",
    "    print(\"Encoder shape: \", H_enc.shape)\n",
    "    \n",
    "    logits = discriminator_2layer(H_enc, opt, dropout, prefix='classify_', num_outputs=1, is_reuse=None)\n",
    "    prob = tf.nn.sigmoid(logits)\n",
    "\n",
    "    # Accuracy\n",
    "    accuracy = tf.reduce_mean(tf.cast(tf.equal(tf.round(prob), y), tf.float32))\n",
    "\n",
    "    # Loss function\n",
    "    loss = tf.reduce_mean(tf.nn.sigmoid_cross_entropy_with_logits(logits=logits, labels=y))\n",
    "\n",
    "    # Training Step\n",
    "    train_step = tf.train.AdamOptimizer(opt.lr_rate).minimize(loss)   \n",
    "    return prob, accuracy, loss, train_step, W_emb"
   ]
  },
  {
   "cell_type": "code",
   "execution_count": 79,
   "metadata": {},
   "outputs": [],
   "source": [
    "def emb_classifier_aver(x, x_mask, y, dropout, opt):\n",
    "    # print x.get_shape()  # batch L\n",
    "    x_emb, W_emb = embedding(x, opt)  # batch L emb\n",
    "    print(\"size of embedding: \", x_emb.shape)\n",
    "    x_emb = tf.expand_dims(x_emb, 3)  # batch L emb 1\n",
    "    \n",
    "    print(\"Input size for encoding x_emb: \", x_emb.shape)\n",
    "    H_enc = aver_emb_encoder(x_emb, x_mask)\n",
    "    \n",
    "    print(\"Encoder shape: \", H_enc.shape)\n",
    "    \n",
    "    logits = discriminator_2layer(H_enc, opt, dropout, prefix='classify_', num_outputs=1, is_reuse=None)\n",
    "    prob = tf.nn.sigmoid(logits)\n",
    "\n",
    "    # Accuracy\n",
    "    accuracy = tf.reduce_mean(tf.cast(tf.equal(tf.round(prob), y), tf.float32))\n",
    "\n",
    "    # Loss function\n",
    "    loss = tf.reduce_mean(tf.nn.sigmoid_cross_entropy_with_logits(logits=logits, labels=y))\n",
    "\n",
    "    # Training Step\n",
    "    train_step = tf.train.AdamOptimizer(opt.lr_rate).minimize(loss)   \n",
    "    return prob, accuracy, loss, train_step, W_emb"
   ]
  },
  {
   "cell_type": "code",
   "execution_count": 84,
   "metadata": {},
   "outputs": [],
   "source": [
    "def emb_classifier_concat(x, x_mask, y, dropout, opt):\n",
    "    # print x.get_shape()  # batch L\n",
    "    x_emb, W_emb = embedding(x, opt)  # batch L emb\n",
    "    print(\"size of embedding: \", x_emb.shape)\n",
    "    x_emb = tf.expand_dims(x_emb, 3)  # batch L emb 1\n",
    "    \n",
    "    print(\"Input size for encoding x_emb: \", x_emb.shape)\n",
    "    H_enc = concat_emb_encoder(x_emb, x_mask, opt)\n",
    "    \n",
    "    print(\"Encoder shape: \", H_enc.shape)\n",
    "    \n",
    "    logits = discriminator_2layer(H_enc, opt, dropout, prefix='classify_', num_outputs=1, is_reuse=None)\n",
    "    prob = tf.nn.sigmoid(logits)\n",
    "\n",
    "    # Accuracy\n",
    "    accuracy = tf.reduce_mean(tf.cast(tf.equal(tf.round(prob), y), tf.float32))\n",
    "\n",
    "    # Loss function\n",
    "    loss = tf.reduce_mean(tf.nn.sigmoid_cross_entropy_with_logits(logits=logits, labels=y))\n",
    "\n",
    "    # Training Step\n",
    "    train_step = tf.train.AdamOptimizer(opt.lr_rate).minimize(loss)   \n",
    "    return prob, accuracy, loss, train_step, W_emb"
   ]
  },
  {
   "cell_type": "markdown",
   "metadata": {},
   "source": [
    "### Define Training Model (Max pooling)"
   ]
  },
  {
   "cell_type": "code",
   "execution_count": 85,
   "metadata": {},
   "outputs": [
    {
     "name": "stdout",
     "output_type": "stream",
     "text": [
      "initialize word embedding finished\n",
      "size of embedding:  (?, 206, 300)\n",
      "Input size for encoding x_emb:  (?, 206, 300, 1)\n",
      "Encoder shape:  (?, 600)\n"
     ]
    }
   ],
   "source": [
    "tf.reset_default_graph()\n",
    "# Define the model input\n",
    "x_ = tf.placeholder(tf.int32, shape=[None, opt.maxlen])\n",
    "x_mask_ = tf.placeholder(tf.float32, shape=[None, opt.maxlen])\n",
    "keep_prob = tf.placeholder(tf.float32)\n",
    "y_ = tf.placeholder(tf.float32, shape=[None, 1])\n",
    "prob_, accuracy_, loss_, train_step, W_emb_ = emb_classifier_concat(x_, x_mask_, y_, keep_prob, opt)\n",
    "# prob_, accuracy_, loss_, train_step, W_emb_ = emb_classifier_max(x_, x_mask_, y_, keep_prob, opt)\n",
    "# prob_, accuracy_, loss_, train_step, W_emb_ = emb_classifier_aver(x_, x_mask_, y_, keep_prob, opt)"
   ]
  },
  {
   "cell_type": "markdown",
   "metadata": {},
   "source": [
    "### Define Training Step"
   ]
  },
  {
   "cell_type": "code",
   "execution_count": 92,
   "metadata": {},
   "outputs": [
    {
     "name": "stdout",
     "output_type": "stream",
     "text": [
      "Train accuracy 0.818000 \n",
      "Validation accuracy 0.836000 \n",
      "Epoch: 0 \t Train Loss: 0.5054317116737366\n",
      "------------------------------------------------------\n",
      "Train accuracy 0.836000 \n",
      "Validation accuracy 0.853000 \n",
      "Epoch: 1 \t Train Loss: 0.49620312452316284\n",
      "------------------------------------------------------\n",
      "Train accuracy 0.853000 \n",
      "Validation accuracy 0.837000 \n",
      "Epoch: 2 \t Train Loss: 0.4026777744293213\n",
      "------------------------------------------------------\n",
      "Train accuracy 0.837000 \n",
      "Validation accuracy 0.843000 \n",
      "Epoch: 3 \t Train Loss: 0.20640811324119568\n",
      "------------------------------------------------------\n",
      "Train accuracy 0.843000 \n",
      "Validation accuracy 0.845000 \n",
      "Epoch: 4 \t Train Loss: 0.3084617555141449\n",
      "------------------------------------------------------\n",
      "Train accuracy 0.845000 \n",
      "Validation accuracy 0.836000 \n",
      "Early Stopping. \n",
      "Epoch: 5 \t Val Acc: 0.835999995470047 \t Train Acc: 0.9166249975562095\n"
     ]
    },
    {
     "data": {
      "image/png": "[encoded data removed]",
      "text/plain": [
       "<Figure size 432x288 with 1 Axes>"
      ]
     },
     "metadata": {
      "needs_background": "light"
     },
     "output_type": "display_data"
    },
    {
     "name": "stdout",
     "output_type": "stream",
     "text": [
      "Test accuracy 0.8409999966621399 Test AUC 0.8652597402597402\n"
     ]
    }
   ],
   "source": [
    "opt.epoch = 10\n",
    "max_val_acc = 0\n",
    "counter = 0\n",
    "with tf.Session() as sess:\n",
    "    sess.run(tf.global_variables_initializer())\n",
    "    for epoch in range(opt.epoch):\n",
    "        train_correct = 0.0\n",
    "        kf = get_minibatches_idx(n_train, opt.batch_size, shuffle=True)\n",
    "        for _, train_index in kf:\n",
    "            sents = [train[t] for t in train_index]\n",
    "            x_labels = [train_lab[t] for t in train_index]\n",
    "            x_labels = np.array(x_labels)\n",
    "            x_labels = x_labels.reshape([-1,1])\n",
    "            \n",
    "            x_batch, x_batch_mask = prepare_data_for_emb(sents, opt)\n",
    "            train_acc, _, loss = sess.run([accuracy_, train_step, loss_], feed_dict={x_: x_batch, x_mask_: x_batch_mask, y_: x_labels, keep_prob: opt.dropout})\n",
    "            \n",
    "            train_correct += train_acc * len(train_index)\n",
    "        train_accuracy = train_correct / n_train\n",
    "        print(\"Train accuracy %f \" % val_accuracy)\n",
    "        \n",
    "        # Early Stopping Validation\n",
    "        val_correct = 0.0\n",
    "        kf_val = get_minibatches_idx(n_val, opt.batch_size, shuffle=True)\n",
    "        for _, val_index in kf_val:\n",
    "            val_sents = [val[t] for t in val_index]\n",
    "            val_labels = [val_lab[t] for t in val_index]\n",
    "            val_labels = np.array(val_labels)\n",
    "            val_labels = val_labels.reshape([-1,1])\n",
    "            x_val_batch, x_val_batch_mask = prepare_data_for_emb(val_sents, opt)\n",
    "\n",
    "            val_prob, val_acc = sess.run([prob_, accuracy_], feed_dict={x_: x_val_batch, x_mask_: x_val_batch_mask,\n",
    "                                                          y_: val_labels, keep_prob: 1.0})\n",
    "\n",
    "            val_true_lab = val_labels\n",
    "            val_correct += val_acc * len(val_index)\n",
    "\n",
    "        val_accuracy = val_correct / n_val\n",
    "        print(\"Validation accuracy %f \" % val_accuracy)\n",
    "\n",
    "        if val_accuracy > max_val_acc:\n",
    "            max_val_acc = val_accuracy\n",
    "            counter = 0\n",
    "        else:\n",
    "            counter += 1\n",
    "        if counter > 3:\n",
    "            print(\"Early Stopping. \")\n",
    "            print(\"Epoch: {0} \\t Val Acc: {1} \\t Train Acc: {2}\".format(epoch, val_accuracy, train_accuracy))\n",
    "            test_correct = 0.0\n",
    "            kf_test = get_minibatches_idx(n_test, opt.batch_size, shuffle=True)\n",
    "            for _, test_index in kf_test:\n",
    "                test_sents = [test[t] for t in test_index]\n",
    "                test_labels = [test_lab[t] for t in test_index]\n",
    "                test_labels = np.array(test_labels)\n",
    "                test_labels = test_labels.reshape([-1,1])\n",
    "                x_test_batch, x_test_batch_mask = prepare_data_for_emb(test_sents, opt)\n",
    "\n",
    "                test_prob, test_acc = sess.run([prob_, accuracy_],\n",
    "                                         feed_dict={x_: x_test_batch, x_mask_: x_test_batch_mask,\n",
    "                                                    y_: test_labels, keep_prob: 1.0})\n",
    "\n",
    "                test_correct += test_acc * len(test_index)\n",
    "\n",
    "            test_accuracy = test_correct / len(test)\n",
    "            \n",
    "            fpr, tpr, threshold = metrics.roc_curve(test_labels, test_prob)\n",
    "            roc_auc = metrics.auc(fpr, tpr)\n",
    "            plt.figure()\n",
    "            plt.title('Receiver Operating Characteristic')\n",
    "            plt.plot(fpr, tpr, 'b', label = 'AUC = %0.2f' % roc_auc)\n",
    "            plt.legend(loc = 'lower right')\n",
    "            plt.plot([0, 1], [0, 1],'r--')\n",
    "            plt.xlim([0, 1])\n",
    "            plt.ylim([0, 1])\n",
    "            plt.ylabel('True Positive Rate')\n",
    "            plt.xlabel('False Positive Rate')\n",
    "            plt.show()\n",
    "\n",
    "            print(\"Test accuracy {0} Test AUC {1}\".format(test_accuracy, roc_auc))\n",
    "            break\n",
    "\n",
    "        print(\"Epoch: {0} \\t Train Loss: {1}\".format(epoch, loss))\n",
    "        print(\"------------------------------------------------------\")"
   ]
  },
  {
   "cell_type": "code",
   "execution_count": 95,
   "metadata": {},
   "outputs": [
    {
     "name": "stdout",
     "output_type": "stream",
     "text": [
      "====================================================\n",
      "Starting epoch 0\n",
      "-------------------------------------------------------\n",
      "Iteration 20: Training loss 0.692127 \n",
      "Train accuracy 0.526000 \n",
      "Validation accuracy 0.541000 \n",
      "Test accuracy 0.537000 \n",
      "-------------------------------------------------------\n",
      "Iteration 40: Training loss 0.693328 \n",
      "Train accuracy 0.506000 \n",
      "Validation accuracy 0.481000 \n",
      "-------------------------------------------------------\n",
      "Iteration 60: Training loss 0.692074 \n",
      "Train accuracy 0.494000 \n",
      "Validation accuracy 0.519000 \n",
      "-------------------------------------------------------\n",
      "Iteration 80: Training loss 0.686325 \n",
      "Train accuracy 0.494000 \n",
      "Validation accuracy 0.519000 \n",
      "-------------------------------------------------------\n",
      "Iteration 100: Training loss 0.691715 \n",
      "Train accuracy 0.494000 \n",
      "Validation accuracy 0.519000 \n",
      "-------------------------------------------------------\n",
      "Iteration 120: Training loss 0.694553 \n",
      "Train accuracy 0.494000 \n",
      "Validation accuracy 0.519000 \n",
      "-------------------------------------------------------\n",
      "Iteration 140: Training loss 0.664190 \n",
      "Train accuracy 0.710000 \n",
      "Validation accuracy 0.686000 \n",
      "Test accuracy 0.656000 \n",
      "-------------------------------------------------------\n",
      "Iteration 160: Training loss 0.652894 \n",
      "Train accuracy 0.774000 \n",
      "Validation accuracy 0.758000 \n",
      "Test accuracy 0.705000 \n",
      "Epoch 0: Max Test accuracy 0.705000\n",
      "====================================================\n",
      "Starting epoch 1\n",
      "-------------------------------------------------------\n",
      "Iteration 180: Training loss 0.619302 \n",
      "Train accuracy 0.798000 \n",
      "Validation accuracy 0.780000 \n",
      "Test accuracy 0.787000 \n",
      "-------------------------------------------------------\n",
      "Iteration 200: Training loss 0.450566 \n",
      "Train accuracy 0.822000 \n",
      "Validation accuracy 0.789000 \n",
      "Test accuracy 0.793000 \n",
      "-------------------------------------------------------\n",
      "Iteration 220: Training loss 0.538018 \n",
      "Train accuracy 0.828000 \n",
      "Validation accuracy 0.792000 \n",
      "Test accuracy 0.791000 \n",
      "-------------------------------------------------------\n",
      "Iteration 240: Training loss 0.625389 \n",
      "Train accuracy 0.820000 \n",
      "Validation accuracy 0.762000 \n",
      "-------------------------------------------------------\n",
      "Iteration 260: Training loss 0.390660 \n",
      "Train accuracy 0.822000 \n",
      "Validation accuracy 0.796000 \n",
      "Test accuracy 0.737000 \n",
      "-------------------------------------------------------\n",
      "Iteration 280: Training loss 0.633570 \n",
      "Train accuracy 0.870000 \n",
      "Validation accuracy 0.838000 \n",
      "Test accuracy 0.812000 \n",
      "-------------------------------------------------------\n",
      "Iteration 300: Training loss 0.607884 \n",
      "Train accuracy 0.880000 \n",
      "Validation accuracy 0.840000 \n",
      "Test accuracy 0.818000 \n",
      "-------------------------------------------------------\n",
      "Iteration 320: Training loss 0.597408 \n",
      "Train accuracy 0.878000 \n",
      "Validation accuracy 0.848000 \n",
      "Test accuracy 0.804000 \n",
      "Epoch 1: Max Test accuracy 0.804000\n",
      "====================================================\n",
      "Starting epoch 2\n",
      "-------------------------------------------------------\n",
      "Iteration 340: Training loss 0.456798 \n",
      "Train accuracy 0.898000 \n",
      "Validation accuracy 0.842000 \n",
      "-------------------------------------------------------\n",
      "Iteration 360: Training loss 0.489391 \n",
      "Train accuracy 0.888000 \n",
      "Validation accuracy 0.818000 \n",
      "-------------------------------------------------------\n",
      "Iteration 380: Training loss 0.312022 \n",
      "Train accuracy 0.900000 \n",
      "Validation accuracy 0.848000 \n",
      "-------------------------------------------------------\n",
      "Iteration 400: Training loss 0.458239 \n",
      "Train accuracy 0.914000 \n",
      "Validation accuracy 0.837000 \n",
      "-------------------------------------------------------\n",
      "Iteration 420: Training loss 0.468499 \n",
      "Train accuracy 0.910000 \n",
      "Validation accuracy 0.847000 \n",
      "-------------------------------------------------------\n",
      "Iteration 440: Training loss 0.703676 \n",
      "Train accuracy 0.908000 \n",
      "Validation accuracy 0.860000 \n",
      "Test accuracy 0.820000 \n",
      "-------------------------------------------------------\n",
      "Iteration 460: Training loss 0.416330 \n",
      "Train accuracy 0.906000 \n",
      "Validation accuracy 0.860000 \n",
      "-------------------------------------------------------\n",
      "Iteration 480: Training loss 0.297623 \n",
      "Train accuracy 0.920000 \n",
      "Validation accuracy 0.846000 \n",
      "Epoch 2: Max Test accuracy 0.820000\n",
      "====================================================\n",
      "Starting epoch 3\n",
      "-------------------------------------------------------\n",
      "Iteration 500: Training loss 0.377221 \n",
      "Train accuracy 0.934000 \n",
      "Validation accuracy 0.841000 \n",
      "-------------------------------------------------------\n",
      "Iteration 520: Training loss 0.573369 \n",
      "Train accuracy 0.918000 \n",
      "Validation accuracy 0.818000 \n",
      "-------------------------------------------------------\n",
      "Iteration 540: Training loss 0.396029 \n",
      "Train accuracy 0.938000 \n",
      "Validation accuracy 0.839000 \n",
      "-------------------------------------------------------\n",
      "Iteration 560: Training loss 0.438381 \n",
      "Train accuracy 0.938000 \n",
      "Validation accuracy 0.841000 \n",
      "-------------------------------------------------------\n",
      "Iteration 580: Training loss 0.407032 \n",
      "Train accuracy 0.928000 \n",
      "Validation accuracy 0.835000 \n",
      "-------------------------------------------------------\n",
      "Iteration 600: Training loss 0.339514 \n",
      "Train accuracy 0.934000 \n",
      "Validation accuracy 0.840000 \n",
      "-------------------------------------------------------\n",
      "Iteration 620: Training loss 0.282644 \n",
      "Train accuracy 0.942000 \n",
      "Validation accuracy 0.841000 \n",
      "-------------------------------------------------------\n",
      "Iteration 640: Training loss 0.420822 \n",
      "Train accuracy 0.940000 \n",
      "Validation accuracy 0.846000 \n",
      "Epoch 3: Max Test accuracy 0.820000\n",
      "====================================================\n",
      "Starting epoch 4\n",
      "-------------------------------------------------------\n",
      "Iteration 660: Training loss 0.438904 \n",
      "Train accuracy 0.948000 \n",
      "Validation accuracy 0.853000 \n",
      "-------------------------------------------------------\n",
      "Iteration 680: Training loss 0.449120 \n",
      "Train accuracy 0.944000 \n",
      "Validation accuracy 0.847000 \n",
      "-------------------------------------------------------\n",
      "Iteration 700: Training loss 0.395114 \n",
      "Train accuracy 0.906000 \n",
      "Validation accuracy 0.800000 \n",
      "-------------------------------------------------------\n",
      "Iteration 720: Training loss 0.434123 \n",
      "Train accuracy 0.944000 \n",
      "Validation accuracy 0.842000 \n",
      "-------------------------------------------------------\n",
      "Iteration 740: Training loss 0.327442 \n",
      "Train accuracy 0.938000 \n",
      "Validation accuracy 0.837000 \n",
      "-------------------------------------------------------\n",
      "Iteration 760: Training loss 0.406206 \n",
      "Train accuracy 0.942000 \n",
      "Validation accuracy 0.832000 \n",
      "-------------------------------------------------------\n",
      "Iteration 780: Training loss 0.526847 \n",
      "Train accuracy 0.944000 \n",
      "Validation accuracy 0.839000 \n",
      "-------------------------------------------------------\n",
      "Iteration 800: Training loss 0.575385 \n",
      "Train accuracy 0.950000 \n",
      "Validation accuracy 0.847000 \n",
      "Epoch 4: Max Test accuracy 0.820000\n",
      "Max Test accuracy 0.820000 \n"
     ]
    }
   ],
   "source": [
    "uidx = 0\n",
    "max_val_accuracy = 0.\n",
    "max_test_accuracy = 0.\n",
    "\n",
    "with tf.Session() as sess:\n",
    "    sess.run(tf.global_variables_initializer())\n",
    "    try:\n",
    "        for epoch in range(5):\n",
    "            print(\"====================================================\")\n",
    "            print(\"Starting epoch %d\" % epoch)\n",
    "            kf = get_minibatches_idx(n_train, opt.batch_size, shuffle=True)\n",
    "            for _, train_index in kf:\n",
    "                uidx += 1\n",
    "                sents = [train[t] for t in train_index]\n",
    "                x_labels = [train_lab[t] for t in train_index]\n",
    "                x_labels = np.array(x_labels)\n",
    "                x_labels = x_labels.reshape([-1,1])\n",
    "\n",
    "                x_batch, x_batch_mask = prepare_data_for_emb(sents, opt)\n",
    "                _, loss = sess.run([train_step, loss_], feed_dict={x_: x_batch, x_mask_: x_batch_mask, y_: x_labels, keep_prob: opt.dropout})\n",
    "                \n",
    "                # Validation for every 20 iterations\n",
    "                if uidx % 20 == 0:\n",
    "                    train_correct = 0.0\n",
    "                    kf_train = get_minibatches_idx(500, opt.batch_size, shuffle=True)\n",
    "                    for _, train_index in kf_train:\n",
    "                        train_sents = [train[t] for t in train_index]\n",
    "                        train_labels = [train_lab[t] for t in train_index]\n",
    "                        train_labels = np.array(train_labels)\n",
    "                        train_labels = train_labels.reshape([-1,1])\n",
    "                        x_train_batch, x_train_batch_mask = prepare_data_for_emb(train_sents, opt)  # Batch L\n",
    "\n",
    "                        train_accuracy = sess.run(accuracy_, feed_dict={x_: x_train_batch, x_mask_: x_train_batch_mask, y_: train_labels, keep_prob: 1.0})\n",
    "\n",
    "                        train_correct += train_accuracy * len(train_index)\n",
    "\n",
    "                    train_accuracy = train_correct / 500\n",
    "                    print(\"-------------------------------------------------------\")\n",
    "                    print(\"Iteration %d: Training loss %f \" % (uidx, loss))\n",
    "                    print(\"Train accuracy %f \" % train_accuracy)\n",
    "\n",
    "                    val_correct = 0.0\n",
    "                    kf_val = get_minibatches_idx(n_val, opt.batch_size, shuffle=True)\n",
    "                    for _, val_index in kf_val:\n",
    "                        val_sents = [val[t] for t in val_index]\n",
    "                        val_labels = [val_lab[t] for t in val_index]\n",
    "                        val_labels = np.array(val_labels)\n",
    "                        val_labels = val_labels.reshape([-1,1])\n",
    "                        x_val_batch, x_val_batch_mask = prepare_data_for_emb(val_sents, opt)\n",
    "\n",
    "                        val_accuracy = sess.run(accuracy_, feed_dict={x_: x_val_batch, x_mask_: x_val_batch_mask,\n",
    "                                                                      y_: val_labels, keep_prob: 1.0})\n",
    "\n",
    "                        val_correct += val_accuracy * len(val_index)\n",
    "\n",
    "                    val_accuracy = val_correct / n_val\n",
    "                    print(\"Validation accuracy %f \" % val_accuracy)\n",
    "\n",
    "                    if val_accuracy > max_val_accuracy:\n",
    "                        max_val_accuracy = val_accuracy\n",
    "\n",
    "                        test_correct = 0.0\n",
    "                        kf_test = get_minibatches_idx(n_test, opt.batch_size, shuffle=True)\n",
    "                        for _, test_index in kf_test:\n",
    "                            test_sents = [test[t] for t in test_index]\n",
    "                            test_labels = [test_lab[t] for t in test_index]\n",
    "                            test_labels = np.array(test_labels)\n",
    "                            test_labels = test_labels.reshape([-1,1])\n",
    "                            x_test_batch, x_test_batch_mask = prepare_data_for_emb(test_sents, opt)\n",
    "\n",
    "                            test_accuracy = sess.run(accuracy_,\n",
    "                                                     feed_dict={x_: x_test_batch, x_mask_: x_test_batch_mask,\n",
    "                                                                y_: test_labels, keep_prob: 1.0})\n",
    "\n",
    "                            test_correct += test_accuracy * len(test_index)\n",
    "\n",
    "                        test_accuracy = test_correct / n_test\n",
    "\n",
    "                        print(\"Test accuracy %f \" % test_accuracy)\n",
    "\n",
    "                        max_test_accuracy = test_accuracy\n",
    "\n",
    "            print(\"Epoch %d: Max Test accuracy %f\" % (epoch, max_test_accuracy))\n",
    "\n",
    "#             emb = sess.run(W_emb_, feed_dict={x_: x_test_batch})\n",
    "\n",
    "#             cPickle.dump([emb], open(\"yahoo_emb_max_300.p\", \"wb\"))\n",
    "\n",
    "        print(\"Max Test accuracy %f \" % max_test_accuracy)\n",
    "\n",
    "    except KeyboardInterrupt:\n",
    "        # print 'Training interupted'\n",
    "        print('Training interupted')\n",
    "        print(\"Max Test accuracy %f \" % max_test_accuracy)\n"
   ]
  },
  {
   "cell_type": "code",
   "execution_count": null,
   "metadata": {},
   "outputs": [],
   "source": []
  }
 ],
 "metadata": {
  "kernelspec": {
   "display_name": "Python 3",
   "language": "python",
   "name": "python3"
  },
  "language_info": {
   "codemirror_mode": {
    "name": "ipython",
    "version": 3
   },
   "file_extension": ".py",
   "mimetype": "text/x-python",
   "name": "python",
   "nbconvert_exporter": "python",
   "pygments_lexer": "ipython3",
   "version": "3.6.5"
  }
 },
 "nbformat": 4,
 "nbformat_minor": 2
}
